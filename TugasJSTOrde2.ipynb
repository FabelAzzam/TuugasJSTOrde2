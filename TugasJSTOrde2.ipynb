{
 "cells": [
  {
   "cell_type": "code",
   "execution_count": 15,
   "id": "a8fdfa34",
   "metadata": {},
   "outputs": [],
   "source": [
    "import numpy as np"
   ]
  },
  {
   "cell_type": "code",
   "execution_count": 16,
   "id": "452ae80f",
   "metadata": {},
   "outputs": [],
   "source": [
    "def sigmoid(x):\n",
    "    return 1 / (1 + np.exp(-x))\n",
    "def sigmoid_derivative(x):\n",
    "    return x * (1 - x)"
   ]
  },
  {
   "cell_type": "code",
   "execution_count": 24,
   "id": "3fb4301a",
   "metadata": {},
   "outputs": [],
   "source": [
    "class NeuralNetwork:\n",
    "    def __init__(self, input_size, hidden_size, output_size):\n",
    "        # inisialisasi bobot secara acak\n",
    "        self.weights1 = np.random.rand(input_size, hidden_size)\n",
    "        self.weights2 = np.random.rand(hidden_size, output_size)\n",
    "    \n",
    "    def forward(self, X):\n",
    "        # Propagasi maju\n",
    "        self.hidden_output = sigmoid(np.dot(X, self.weights1))\n",
    "        self.predicted_output = sigmoid(np.dot(self.hidden_output, self.weights2))\n",
    "    \n",
    "    def backward(self, X, y):\n",
    "        # Menghitung gradien\n",
    "        error = y - self.predicted_output\n",
    "        delta_output = error * sigmoid_derivative(self.predicted_output)\n",
    "        error_hidden = delta_output.dot(self.weights2.T)\n",
    "        delta_hidden = error_hidden * sigmoid_derivative(self.hidden_output)\n",
    "        \n",
    "        grad1 = X.T.dot(delta_hidden)\n",
    "        grad2 = self.hidden_output.T.dot(delta_output)\n",
    "        return np.concatenate((grad1.ravel(), grad2.ravel()))\n",
    "    \n",
    "    def hessian(self, X):\n",
    "        # Menghitung matriks Hess\n",
    "        diag_output = np.diag(np.diag(self.predicted_output))\n",
    "        hessian1 = np.dot(X.T, np.dot(np.dot(delta_hidden, diag_output), delta_hidden.T))\n",
    "        hessian2 = np.dot(self.hidden_output.T, np.dot(np.dot(delta_output, diag_output), delta_output.T))\n",
    "        return np.block([[hessian1, np.zeros_like(self.weights1)],\n",
    "                         [np.zeros_like(self.weights2), hessian2]])\n",
    "    \n",
    "    def train(self, X, y, epochs):\n",
    "        for epoch in range(epochs):\n",
    "            self.forward(X)\n",
    "            grad = self.backward(X, y)\n",
    "            hess = self.hessian(X)\n",
    "            delta_weights = np.linalg.pinv(hess) @ grad\n",
    "            delta_weights1 = delta_weights[:self.weights1.size].reshape(self.weights1.shape)\n",
    "            delta_weights2 = delta_weights[self.weights1.size:].reshape(self.weights2.shape)\n",
    "            self.weights1 += delta_weights1\n",
    "            self.weights2 += delta_weights2\n",
    "    \n",
    "    def predict(self, X):\n",
    "        self.forward(X)\n",
    "        return self.predicted_output"
   ]
  },
  {
   "cell_type": "code",
   "execution_count": 18,
   "id": "50cdd62d",
   "metadata": {},
   "outputs": [],
   "source": [
    "X = np.array([[0, 0], [0, 1], [1, 0], [1, 1]])\n",
    "y = np.array([[0], [0], [0], [1]])\n"
   ]
  },
  {
   "cell_type": "code",
   "execution_count": 19,
   "id": "12a3c8be",
   "metadata": {},
   "outputs": [],
   "source": [
    "input_size = 2\n",
    "hidden_size = 4\n",
    "output_size = 1\n",
    "nn = NeuralNetwork(input_size, hidden_size, output_size)"
   ]
  },
  {
   "cell_type": "code",
   "execution_count": 20,
   "id": "bca2f1c9",
   "metadata": {},
   "outputs": [
    {
     "ename": "NameError",
     "evalue": "name 'delta_hidden' is not defined",
     "output_type": "error",
     "traceback": [
      "\u001b[1;31m---------------------------------------------------------------------------\u001b[0m",
      "\u001b[1;31mNameError\u001b[0m                                 Traceback (most recent call last)",
      "Cell \u001b[1;32mIn[20], line 2\u001b[0m\n\u001b[0;32m      1\u001b[0m epochs \u001b[38;5;241m=\u001b[39m \u001b[38;5;241m100\u001b[39m\n\u001b[1;32m----> 2\u001b[0m \u001b[43mnn\u001b[49m\u001b[38;5;241;43m.\u001b[39;49m\u001b[43mtrain\u001b[49m\u001b[43m(\u001b[49m\u001b[43mX\u001b[49m\u001b[43m,\u001b[49m\u001b[43m \u001b[49m\u001b[43my\u001b[49m\u001b[43m,\u001b[49m\u001b[43m \u001b[49m\u001b[43mepochs\u001b[49m\u001b[43m)\u001b[49m\n",
      "Cell \u001b[1;32mIn[17], line 35\u001b[0m, in \u001b[0;36mNeuralNetwork.train\u001b[1;34m(self, X, y, epochs)\u001b[0m\n\u001b[0;32m     33\u001b[0m \u001b[38;5;28mself\u001b[39m\u001b[38;5;241m.\u001b[39mforward(X)\n\u001b[0;32m     34\u001b[0m grad \u001b[38;5;241m=\u001b[39m \u001b[38;5;28mself\u001b[39m\u001b[38;5;241m.\u001b[39mbackward(X, y)\n\u001b[1;32m---> 35\u001b[0m hess \u001b[38;5;241m=\u001b[39m \u001b[38;5;28;43mself\u001b[39;49m\u001b[38;5;241;43m.\u001b[39;49m\u001b[43mhessian\u001b[49m\u001b[43m(\u001b[49m\u001b[43mX\u001b[49m\u001b[43m)\u001b[49m\n\u001b[0;32m     36\u001b[0m delta_weights \u001b[38;5;241m=\u001b[39m np\u001b[38;5;241m.\u001b[39mlinalg\u001b[38;5;241m.\u001b[39mpinv(hess) \u001b[38;5;241m@\u001b[39m grad\n\u001b[0;32m     37\u001b[0m delta_weights1 \u001b[38;5;241m=\u001b[39m delta_weights[:\u001b[38;5;28mself\u001b[39m\u001b[38;5;241m.\u001b[39mweights1\u001b[38;5;241m.\u001b[39msize]\u001b[38;5;241m.\u001b[39mreshape(\u001b[38;5;28mself\u001b[39m\u001b[38;5;241m.\u001b[39mweights1\u001b[38;5;241m.\u001b[39mshape)\n",
      "Cell \u001b[1;32mIn[17], line 26\u001b[0m, in \u001b[0;36mNeuralNetwork.hessian\u001b[1;34m(self, X)\u001b[0m\n\u001b[0;32m     23\u001b[0m \u001b[38;5;28;01mdef\u001b[39;00m \u001b[38;5;21mhessian\u001b[39m(\u001b[38;5;28mself\u001b[39m, X):\n\u001b[0;32m     24\u001b[0m     \u001b[38;5;66;03m# Menghitung matriks Hess\u001b[39;00m\n\u001b[0;32m     25\u001b[0m     diag_output \u001b[38;5;241m=\u001b[39m np\u001b[38;5;241m.\u001b[39mdiag(np\u001b[38;5;241m.\u001b[39mdiag(\u001b[38;5;28mself\u001b[39m\u001b[38;5;241m.\u001b[39mpredicted_output))\n\u001b[1;32m---> 26\u001b[0m     hessian1 \u001b[38;5;241m=\u001b[39m np\u001b[38;5;241m.\u001b[39mdot(X\u001b[38;5;241m.\u001b[39mT, np\u001b[38;5;241m.\u001b[39mdot(np\u001b[38;5;241m.\u001b[39mdot(\u001b[43mdelta_hidden\u001b[49m, diag_output), delta_hidden\u001b[38;5;241m.\u001b[39mT))\n\u001b[0;32m     27\u001b[0m     hessian2 \u001b[38;5;241m=\u001b[39m np\u001b[38;5;241m.\u001b[39mdot(\u001b[38;5;28mself\u001b[39m\u001b[38;5;241m.\u001b[39mhidden_output\u001b[38;5;241m.\u001b[39mT, np\u001b[38;5;241m.\u001b[39mdot(np\u001b[38;5;241m.\u001b[39mdot(delta_output, diag_output), delta_output\u001b[38;5;241m.\u001b[39mT))\n\u001b[0;32m     28\u001b[0m     \u001b[38;5;28;01mreturn\u001b[39;00m np\u001b[38;5;241m.\u001b[39mblock([[hessian1, np\u001b[38;5;241m.\u001b[39mzeros_like(\u001b[38;5;28mself\u001b[39m\u001b[38;5;241m.\u001b[39mweights1)],\n\u001b[0;32m     29\u001b[0m                      [np\u001b[38;5;241m.\u001b[39mzeros_like(\u001b[38;5;28mself\u001b[39m\u001b[38;5;241m.\u001b[39mweights2), hessian2]])\n",
      "\u001b[1;31mNameError\u001b[0m: name 'delta_hidden' is not defined"
     ]
    }
   ],
   "source": [
    "epochs = 100\n",
    "nn.train(X, y, epochs)"
   ]
  },
  {
   "cell_type": "code",
   "execution_count": 21,
   "id": "4b602214",
   "metadata": {},
   "outputs": [],
   "source": [
    "test_data = np.array([[0, 0], [0, 1], [1, 0], [1, 1]])\n",
    "predictions = nn.predict(test_data)\n"
   ]
  },
  {
   "cell_type": "code",
   "execution_count": 22,
   "id": "a46dfab5",
   "metadata": {},
   "outputs": [
    {
     "name": "stdout",
     "output_type": "stream",
     "text": [
      "Input: [0 0], Predicted Output: [0.74050987]\n",
      "Input: [0 1], Predicted Output: [0.79172125]\n",
      "Input: [1 0], Predicted Output: [0.81284907]\n",
      "Input: [1 1], Predicted Output: [0.84371921]\n"
     ]
    }
   ],
   "source": [
    "for data, prediction in zip(test_data, predictions):\n",
    "    print(f\"Input: {data}, Predicted Output: {prediction}\")"
   ]
  },
  {
   "cell_type": "code",
   "execution_count": null,
   "id": "034eed16",
   "metadata": {},
   "outputs": [],
   "source": []
  }
 ],
 "metadata": {
  "kernelspec": {
   "display_name": "Python 3 (ipykernel)",
   "language": "python",
   "name": "python3"
  },
  "language_info": {
   "codemirror_mode": {
    "name": "ipython",
    "version": 3
   },
   "file_extension": ".py",
   "mimetype": "text/x-python",
   "name": "python",
   "nbconvert_exporter": "python",
   "pygments_lexer": "ipython3",
   "version": "3.9.12"
  }
 },
 "nbformat": 4,
 "nbformat_minor": 5
}
